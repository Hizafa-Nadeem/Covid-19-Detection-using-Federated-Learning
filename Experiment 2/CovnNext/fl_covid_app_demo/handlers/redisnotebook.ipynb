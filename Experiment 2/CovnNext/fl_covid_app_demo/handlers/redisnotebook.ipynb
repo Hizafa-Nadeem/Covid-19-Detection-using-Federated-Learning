{
 "cells": [
  {
   "cell_type": "code",
   "execution_count": 1,
   "metadata": {
    "collapsed": true
   },
   "outputs": [],
   "source": [
    "import dill  # 0.3.2\n",
    "import redis\n",
    "\n",
    "\n",
    "class Redis:\n",
    "    def __init__(self, host='127.0.0.1', port=6379, db=1, password='Comp@123'):\n",
    "\n",
    "\n",
    "        if host is None:\n",
    "            raise ValueError('RedisCache host parameter may not be None')\n",
    "        if isinstance(host, str):\n",
    "            self._client = redis.StrictRedis(host=host, port=port, db=db, password=password)\n",
    "        else:\n",
    "            self._client = host\n",
    "\n",
    "    def has(self, key):\n",
    "        return self._client.exists(key)\n",
    "\n",
    "    def set(self, key, object):\n",
    "        dump = self.dump_object(object)\n",
    "        try:\n",
    "            self._client.set(key, dump)\n",
    "            success = True\n",
    "        except:\n",
    "            print(\"problem in redis\")\n",
    "            success = False\n",
    "\n",
    "        return success\n",
    "\n",
    "    def get(self, key):\n",
    "        return self.load_object(self._client.get(key))\n",
    "\n",
    "    def dump_object(self, object):\n",
    "\n",
    "        serialized_object = None\n",
    "        try:\n",
    "            serialized_object = dill.dumps(object)\n",
    "        except:\n",
    "            print('Error Serializing --dill')\n",
    "        return serialized_object\n",
    "\n",
    "\n",
    "    def load_object(self, object):\n",
    "\n",
    "        unserialized_object = None\n",
    "        try:\n",
    "            unserialized_object = dill.loads(object)\n",
    "        except:\n",
    "            print('Error Un-Serializing --dill')\n",
    "        return unserialized_object\n",
    "    def remove(self,key):\n",
    "        self._client.delete(key)\n",
    "\n"
   ]
  },
  {
   "cell_type": "code",
   "execution_count": 2,
   "outputs": [],
   "source": [
    "\n",
    "REDIS_IP = '127.0.0.1'\n",
    "REDIS_PORT = 6379\n",
    "REDIS_DB = 2\n",
    "REDIS_PASSWORD = 'Comp@123' #'fl_fyp@123'\n",
    "\n",
    "redis = Redis(host=REDIS_IP, port=REDIS_PORT, db=REDIS_DB, password=REDIS_PASSWORD)\n",
    "\n",
    "redis.remove(\"new_grad\")\n",
    "redis.remove(\"new_grad_3\")\n",
    "redis.remove(\"adam_optimizer\")\n",
    "redis.remove(\"fl_server_attr\")\n",
    "redis.remove(\"dct\")\n",
    "\n",
    "redis.remove(\"num_items\")\n",
    "redis.remove(\"num_factors\")\n",
    "redis.remove(\"beta_1\")\n",
    "redis.remove(\"beta_2\")\n",
    "redis.remove(\"epsilon\")\n",
    "\n",
    "redis.remove(\"gemma\")\n",
    "redis.remove(\"m\")\n",
    "redis.remove(\"v\")\n",
    "redis.remove(\"t\")\n",
    "\n",
    "\n"
   ],
   "metadata": {
    "collapsed": false,
    "pycharm": {
     "name": "#%%\n"
    }
   }
  },
  {
   "cell_type": "code",
   "execution_count": 3,
   "outputs": [
    {
     "name": "stdout",
     "output_type": "stream",
     "text": [
      "not here\n"
     ]
    }
   ],
   "source": [
    "if redis.has(\"fl_server_attr\"):\n",
    "    print(\"new grad is present\")\n",
    "else:\n",
    "    print(\"not here\")"
   ],
   "metadata": {
    "collapsed": false,
    "pycharm": {
     "name": "#%%\n"
    }
   }
  }
 ],
 "metadata": {
  "kernelspec": {
   "display_name": "Python 3",
   "language": "python",
   "name": "python3"
  },
  "language_info": {
   "codemirror_mode": {
    "name": "ipython",
    "version": 2
   },
   "file_extension": ".py",
   "mimetype": "text/x-python",
   "name": "python",
   "nbconvert_exporter": "python",
   "pygments_lexer": "ipython2",
   "version": "2.7.6"
  }
 },
 "nbformat": 4,
 "nbformat_minor": 0
}